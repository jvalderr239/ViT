{
 "cells": [
  {
   "cell_type": "code",
   "execution_count": null,
   "metadata": {},
   "outputs": [
    {
     "ename": "",
     "evalue": "",
     "output_type": "error",
     "traceback": [
      "\u001b[1;31mRunning cells with 'vit' requires the ipykernel package.\n",
      "\u001b[1;31mRun the following command to install 'ipykernel' into the Python environment. \n",
      "\u001b[1;31mCommand: 'conda install -n vit ipykernel --update-deps --force-reinstall'"
     ]
    }
   ],
   "source": [
    "from src.models.patch_embeddings import PatchEmbedding"
   ]
  }
 ],
 "metadata": {
  "kernelspec": {
   "display_name": "vit",
   "language": "python",
   "name": "python3"
  },
  "language_info": {
   "name": "python",
   "version": "3.8.16"
  },
  "orig_nbformat": 4,
  "vscode": {
   "interpreter": {
    "hash": "92e1671eb6969b676ebc6e94cfbe5081215812562cb54e8dc175ad276c9eca13"
   }
  }
 },
 "nbformat": 4,
 "nbformat_minor": 2
}
