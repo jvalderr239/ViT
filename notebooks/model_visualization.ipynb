{
 "cells": [
  {
   "cell_type": "code",
   "execution_count": null,
   "metadata": {},
   "outputs": [],
   "source": [
    "!jupyter nbextension enable --py widgetsnbextension\n",
    "from PIL import Image\n",
    "from matplotlib import pyplot as plt\n",
    "from src.models.vit import ViT\n",
    "from torchsummary import summary\n",
    "from src.utils.transforms import ImageTransform\n",
    "import numpy as np\n",
    "import torch"
   ]
  },
  {
   "cell_type": "code",
   "execution_count": null,
   "metadata": {},
   "outputs": [],
   "source": [
    "tensor = torch.rand((32, 1, 100))"
   ]
  },
  {
   "cell_type": "code",
   "execution_count": 9,
   "metadata": {},
   "outputs": [
    {
     "name": "stdout",
     "output_type": "stream",
     "text": [
      "(tensor([[[ 0.7933,  0.7933,  0.7933,  ..., -0.6965, -0.7137, -0.7137],\n",
      "         [ 0.7933,  0.7933,  0.7762,  ..., -0.6965, -0.7137, -0.7137],\n",
      "         [ 0.7762,  0.7762,  0.7591,  ..., -0.6794, -0.6965, -0.6965],\n",
      "         ...,\n",
      "         [-0.5253, -0.5253, -0.4568,  ...,  0.1939,  0.0569,  0.0569],\n",
      "         [-0.4911, -0.4911, -0.4054,  ...,  0.2967,  0.1426,  0.1426],\n",
      "         [-0.4911, -0.4911, -0.4054,  ...,  0.2967,  0.1426,  0.1426]],\n",
      "\n",
      "        [[-0.1099, -0.1099, -0.1099,  ..., -0.2675, -0.2675, -0.2675],\n",
      "         [-0.1099, -0.1099, -0.1099,  ..., -0.2675, -0.2675, -0.2675],\n",
      "         [-0.0924, -0.0924, -0.0924,  ..., -0.2500, -0.2500, -0.2500],\n",
      "         ...,\n",
      "         [ 0.1001,  0.1001,  0.1877,  ..., -0.1625, -0.3025, -0.3025],\n",
      "         [ 0.1877,  0.1877,  0.2752,  ..., -0.0574, -0.2150, -0.2150],\n",
      "         [ 0.1877,  0.1877,  0.2752,  ..., -0.0749, -0.2150, -0.2150]],\n",
      "\n",
      "        [[ 0.4091,  0.4091,  0.3916,  ...,  0.0431,  0.0256,  0.0256],\n",
      "         [ 0.4091,  0.4091,  0.4091,  ...,  0.0431,  0.0256,  0.0256],\n",
      "         [ 0.4439,  0.4439,  0.4265,  ...,  0.0605,  0.0431,  0.0431],\n",
      "         ...,\n",
      "         [-0.0615, -0.0615, -0.0092,  ...,  0.2871,  0.1476,  0.1476],\n",
      "         [-0.0615, -0.0615,  0.0082,  ...,  0.3916,  0.2348,  0.2348],\n",
      "         [-0.0615, -0.0615,  0.0082,  ...,  0.3916,  0.2348,  0.2348]]]), 6)\n"
     ]
    },
    {
     "ename": "TypeError",
     "evalue": "'int' object is not iterable",
     "output_type": "error",
     "traceback": [
      "\u001b[0;31m---------------------------------------------------------------------------\u001b[0m",
      "\u001b[0;31mTypeError\u001b[0m                                 Traceback (most recent call last)",
      "Cell \u001b[0;32mIn[9], line 5\u001b[0m\n\u001b[1;32m      3\u001b[0m \u001b[39mfor\u001b[39;00m i, data \u001b[39min\u001b[39;00m \u001b[39menumerate\u001b[39m(TEST_DATASET):\n\u001b[1;32m      4\u001b[0m   \u001b[39mprint\u001b[39m(data)\n\u001b[0;32m----> 5\u001b[0m   \u001b[39mfor\u001b[39;00m item \u001b[39min\u001b[39;00m \u001b[39mzip\u001b[39;49m(inputs, labels):\n\u001b[1;32m      6\u001b[0m     \u001b[39mprint\u001b[39m(item)\n\u001b[1;32m      7\u001b[0m     \u001b[39mbreak\u001b[39;00m\n",
      "\u001b[0;31mTypeError\u001b[0m: 'int' object is not iterable"
     ]
    }
   ],
   "source": [
    "from scripts.config import TEST_DATASET\n",
    "\n",
    "for i, data in enumerate(TEST_DATASET):\n",
    "  print(data)\n",
    "  break\n",
    "  "
   ]
  },
  {
   "cell_type": "code",
   "execution_count": null,
   "metadata": {},
   "outputs": [],
   "source": [
    "img = np.asarray(Image.open(\"./resources/blackhole.jpeg\"))\n",
    "plt.axis(\"off\")\n",
    "plt.imshow(img)\n",
    "img.shape"
   ]
  },
  {
   "cell_type": "code",
   "execution_count": null,
   "metadata": {},
   "outputs": [],
   "source": [
    "a_transform = ImageTransform(\"train\")\n",
    "x = a_transform(img)\n",
    "x = x.unsqueeze(0).repeat(5, 1, 1, 1) # add batch dim\n",
    "x.shape"
   ]
  },
  {
   "cell_type": "code",
   "execution_count": null,
   "metadata": {},
   "outputs": [],
   "source": [
    "k = 16\n",
    "b, c, *_ = x.shape\n",
    "patches = x.unfold(2, k, k).unfold(3, k, k)\n",
    "patches = patches.reshape(b, -1, k * k * c)\n",
    "print(patches.shape)"
   ]
  },
  {
   "cell_type": "code",
   "execution_count": null,
   "metadata": {},
   "outputs": [],
   "source": [
    "ViT()(x).shape"
   ]
  },
  {
   "cell_type": "code",
   "execution_count": null,
   "metadata": {},
   "outputs": [],
   "source": [
    "from torchsummary import summary\n",
    "summary(ViT(), (3, 224, 224), device=\"cpu\")"
   ]
  }
 ],
 "metadata": {
  "kernelspec": {
   "display_name": "vit",
   "language": "python",
   "name": "python3"
  },
  "language_info": {
   "codemirror_mode": {
    "name": "ipython",
    "version": 3
   },
   "file_extension": ".py",
   "mimetype": "text/x-python",
   "name": "python",
   "nbconvert_exporter": "python",
   "pygments_lexer": "ipython3",
   "version": "3.8.16"
  },
  "orig_nbformat": 4,
  "vscode": {
   "interpreter": {
    "hash": "92e1671eb6969b676ebc6e94cfbe5081215812562cb54e8dc175ad276c9eca13"
   }
  }
 },
 "nbformat": 4,
 "nbformat_minor": 2
}
